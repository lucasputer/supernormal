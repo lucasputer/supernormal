{
 "cells": [
  {
   "cell_type": "code",
   "execution_count": 1,
   "metadata": {},
   "outputs": [],
   "source": [
    "import matplotlib.pyplot as plt\n",
    "import math\n",
    "import itertools\n",
    "import pandas as pd\n",
    "import numpy as np\n",
    "import random\n",
    "from scipy import stats\n",
    "from scipy.stats import poisson\n",
    "from scipy.stats import chisquare\n",
    "from scipy.stats import mannwhitneyu\n",
    "from scipy.stats import levene\n",
    "from fractions import Fraction"
   ]
  },
  {
   "cell_type": "code",
   "execution_count": 24,
   "metadata": {},
   "outputs": [],
   "source": [
    "class PRNG:\n",
    "    def get_next_digit(self):\n",
    "        return random.choice([0,1])\n",
    "    \n",
    "class Levin2:\n",
    "    \n",
    "    def __init__(self):\n",
    "        self.file = open('levin_q2.txt')\n",
    "        \n",
    "    def get_next_digit(self):\n",
    "        c = self.file.read(1)\n",
    "        if not c:\n",
    "            raise Exception('No more digits')\n",
    "        return c\n",
    "    lenc = 0"
   ]
  },
  {
   "cell_type": "code",
   "execution_count": 6,
   "metadata": {},
   "outputs": [],
   "source": [
    "def get_M(N,lamb):\n",
    "    return int(math.ceil(math.log(N,2) - math.log(lamb,2)))\n",
    "\n",
    "def normalize_data(occs, N, lamb):\n",
    "    M = get_M(N,lamb)\n",
    "    ret = []\n",
    "    for o in occs:\n",
    "        ret.append(o/2**M)\n",
    "    return ret\n",
    "\n",
    "def get_mean(normalized_occs):\n",
    "    mean = 0\n",
    "    for i in range(len(normalized_occs)):\n",
    "        mean += i*normalized_occs[i]\n",
    "    return mean\n",
    "\n",
    "def get_std(normalized_occs,mean):\n",
    "    if mean == None:\n",
    "        mean = get_mean(normalized_occs)\n",
    "        \n",
    "    std = 0\n",
    "    for i in range(len(normalized_occs)):\n",
    "        std += ((i-mean)**2)*normalized_occs[i]\n",
    "    return std"
   ]
  },
  {
   "cell_type": "code",
   "execution_count": 5,
   "metadata": {},
   "outputs": [],
   "source": [
    "def get_occurrences(amounts,M):\n",
    "    #returns frequency of occurencies for each value in the observed range\n",
    "    occs = {}\n",
    "    total = 0    \n",
    "    for k,v in amounts.items():\n",
    "        total += 1\n",
    "        if v not in occs:\n",
    "            occs[v] = 0\n",
    "        occs[v] = occs[v] + 1\n",
    "    occs[0] = int(2**M - total)\n",
    "    max_o = 0\n",
    "    for k,v in occs.items():\n",
    "#         occs[k] = v/2**M\n",
    "        occs[k] = v\n",
    "        if k > max_o:\n",
    "            max_o = k\n",
    "    occs_array = [occs[i] if i in occs  else 0 for i in range(max_o+1)]\n",
    "    return occs_array"
   ]
  },
  {
   "cell_type": "code",
   "execution_count": 13,
   "metadata": {},
   "outputs": [],
   "source": [
    "def get_amounts(N,lamb=1,use_seq='PRNG'):\n",
    "    if use_seq == 'levin':\n",
    "        sequence = Levin()\n",
    "    elif use_seq == 'levin2':\n",
    "        sequence = Levin2()\n",
    "    elif use_seq == 'champernowne':\n",
    "        sequence = Champernowne()\n",
    "    elif use_seq == 'rule30':\n",
    "        sequence = Rule30()\n",
    "    elif use_seq == 'stoneham':\n",
    "        sequence = Stoneham()\n",
    "    else:\n",
    "        sequence = PRNG()\n",
    "        \n",
    "        \n",
    "    M = get_M(N,lamb)\n",
    "    \n",
    "    #create dictionaries to store frequencies of every N value\n",
    "    amounts = {}\n",
    "    occurrences = {}   \n",
    "    counter = 0\n",
    "    word = ''\n",
    "    \n",
    "    \n",
    "    while counter < N * M:\n",
    "        \n",
    "        #Get digits up to M\n",
    "        while len(word) < M:\n",
    "            counter += 1\n",
    "            word = word + str(sequence.get_next_digit())\n",
    "\n",
    "        if word not in amounts:\n",
    "            amounts[word] = 0\n",
    "        amounts[word] = amounts[word] + 1\n",
    "\n",
    "        word = ''\n",
    "        \n",
    "    return get_occurrences(amounts,M)"
   ]
  },
  {
   "cell_type": "code",
   "execution_count": 9,
   "metadata": {},
   "outputs": [],
   "source": [
    "def analize_result(occs,N,l=1,plot=True):\n",
    "    print(\"---- Normalized data ----\")\n",
    "    actual = np.array(normalize_data(occs,N,l))\n",
    "    M = int(math.ceil(math.log(N,2)))    \n",
    "    x= np.arange(0,len(actual),1)\n",
    "    p = poisson.pmf(x,l)\n",
    "    mean = get_mean(actual)\n",
    "    std = get_std(actual,mean)\n",
    "    print (\"Mean: \"+ str(mean) + \"; expected: \" + str(l) + \"; difference: \" + str(abs(l-mean)))\n",
    "    print (\"Std: \"+ str(std) + \"; expected: \" + str(l) + \"; difference: \" + str(abs(l-std)))\n",
    "    print(\"difference between std and mean :\"+  str(abs(mean-std)))\n",
    "    print(\"MWU: \" + str(mannwhitneyu(actual,p)))\n",
    "    print(\"Levene: \" + str(levene(actual,p)))\n",
    "    if(plot):\n",
    "        plt.figure(l)\n",
    "        plt.plot(x, p)\n",
    "        p2 = plt.bar(x-0.5, p,label=\"expected\",width=0.5)\n",
    "        p1 = plt.bar(x, actual, color='#d62728',label=\"actual\",width=0.5)\n",
    "        plt.legend(loc='best')\n",
    "        plt.show()\n",
    "#         plt.figure(l+1)\n",
    "#         stats.probplot(actual, dist='poisson', sparams=(l), plot=plt)\n",
    "#         plt.show()\n",
    "\n",
    "def analize_result_2(occs,l=1,plot=True):\n",
    "    print(\"---- Sample data ----\")\n",
    "    actual = np.array(occs)\n",
    "    sample = poisson.rvs(1, size=sum(occs))\n",
    "    expected = [0 for i in range(max(max(sample)+1,len(actual)))]\n",
    "    for i in sample:\n",
    "        expected[i] += 1\n",
    "    expected = np.array(expected)\n",
    "    x= np.arange(0,len(actual),l)\n",
    "#     print(\"chisquare: \" + str(chisquare(f_obs=actual, f_exp=expected)))\n",
    "    print(\"MWU: \" + str(mannwhitneyu(actual,expected)))\n",
    "    print(\"Levene: \" + str(levene(actual,expected)))\n",
    "    \n",
    "    data_by_index = []\n",
    "    for i in range(len(occs)):\n",
    "        for j in range(occs[i]):\n",
    "            data_by_index.append(i)\n",
    "    \n",
    "    if(plot):\n",
    "#         plt.figure(l)\n",
    "#         plt.plot(x, expected)\n",
    "#         p2 = plt.bar(x-0.5, expected,label=\"expected\",width=0.5)\n",
    "#         p1 = plt.bar(x, actual, color='#d62728',label=\"actual\",width=0.5)\n",
    "#         plt.legend(loc='best')\n",
    "#         plt.show()\n",
    "        plt.figure(l+1)\n",
    "        stats.probplot(data_by_index, dist='poisson', sparams=(l), plot=plt)\n",
    "        plt.show()"
   ]
  },
  {
   "cell_type": "code",
   "execution_count": 22,
   "metadata": {},
   "outputs": [],
   "source": [
    "def perform_test(seq,N=2**25,lamb=1):\n",
    "    occs = get_amounts(N,lamb=lamb,use_seq=seq)\n",
    "    analize_result(occs,N,plot=True,l=lamb)\n",
    "    analize_result_2(occs,plot=True,l=lamb)"
   ]
  },
  {
   "cell_type": "code",
   "execution_count": 23,
   "metadata": {},
   "outputs": [
    {
     "name": "stdout",
     "output_type": "stream",
     "text": [
      "---- Normalized data ----\n",
      "Mean: 1.0; expected: 1; difference: 0.0\n",
      "Std: 1.0001747608184814; expected: 1; difference: 0.0001747608184814453\n",
      "difference between std and mean :0.0001747608184814453\n",
      "MWU: MannwhitneyuResult(statistic=59.0, pvalue=0.47381488164049806)\n",
      "Levene: LeveneResult(statistic=2.7857650750252405e-12, pvalue=0.9999986851309083)\n"
     ]
    },
    {
     "data": {
      "image/png": "[encoded data removed]",
      "text/plain": [
       "<Figure size 432x288 with 1 Axes>"
      ]
     },
     "metadata": {
      "needs_background": "light"
     },
     "output_type": "display_data"
    },
    {
     "name": "stdout",
     "output_type": "stream",
     "text": [
      "---- Sample data ----\n",
      "MWU: MannwhitneyuResult(statistic=60.0, pvalue=0.5)\n",
      "Levene: LeveneResult(statistic=1.0981522441128918e-11, pvalue=0.9999973886757344)\n"
     ]
    },
    {
     "data": {
      "image/png": "[encoded data removed]",
      "text/plain": [
       "<Figure size 432x288 with 1 Axes>"
      ]
     },
     "metadata": {
      "needs_background": "light"
     },
     "output_type": "display_data"
    }
   ],
   "source": [
    "perform_test('PRNG')"
   ]
  },
  {
   "cell_type": "code",
   "execution_count": 28,
   "metadata": {},
   "outputs": [
    {
     "name": "stdout",
     "output_type": "stream",
     "text": [
      "---- Normalized data ----\n",
      "Mean: 1.0; expected: 1; difference: 0.0\n",
      "Std: 0.9516925811767578; expected: 1; difference: 0.04830741882324219\n",
      "difference between std and mean :0.04830741882324219\n",
      "MWU: MannwhitneyuResult(statistic=38.0, pvalue=0.42987378317046787)\n",
      "Levene: LeveneResult(statistic=4.2857430559790505e-05, pvalue=0.9948575701420276)\n"
     ]
    },
    {
     "data": {
      "image/png": "[encoded data removed]",
      "text/plain": [
       "<Figure size 432x288 with 1 Axes>"
      ]
     },
     "metadata": {
      "needs_background": "light"
     },
     "output_type": "display_data"
    },
    {
     "name": "stdout",
     "output_type": "stream",
     "text": [
      "---- Sample data ----\n",
      "MWU: MannwhitneyuResult(statistic=38.0, pvalue=0.429909602527079)\n",
      "Levene: LeveneResult(statistic=4.293379791153175e-05, pvalue=0.9948529906213214)\n"
     ]
    },
    {
     "data": {
      "image/png": "[encoded data removed]",
      "text/plain": [
       "<Figure size 432x288 with 1 Axes>"
      ]
     },
     "metadata": {
      "needs_background": "light"
     },
     "output_type": "display_data"
    }
   ],
   "source": [
    "perform_test('levin2',N=2**20)"
   ]
  },
  {
   "cell_type": "code",
   "execution_count": null,
   "metadata": {},
   "outputs": [],
   "source": []
  }
 ],
 "metadata": {
  "kernelspec": {
   "display_name": "Python 3",
   "language": "python",
   "name": "python3"
  },
  "language_info": {
   "codemirror_mode": {
    "name": "ipython",
    "version": 3
   },
   "file_extension": ".py",
   "mimetype": "text/x-python",
   "name": "python",
   "nbconvert_exporter": "python",
   "pygments_lexer": "ipython3",
   "version": "3.7.4"
  }
 },
 "nbformat": 4,
 "nbformat_minor": 2
}
