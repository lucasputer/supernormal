{
 "cells": [
  {
   "cell_type": "code",
   "execution_count": 1,
   "metadata": {},
   "outputs": [],
   "source": [
    "import matplotlib.pyplot as plt\n",
    "import math\n",
    "import itertools\n",
    "import pandas as pd\n",
    "import numpy as np\n",
    "import random\n",
    "from scipy import stats\n",
    "from scipy.stats import poisson\n",
    "from scipy.stats import chisquare\n",
    "from scipy.stats import mannwhitneyu\n",
    "from scipy.stats import levene\n",
    "from fractions import Fraction\n",
    "from PIL import Image"
   ]
  },
  {
   "cell_type": "code",
   "execution_count": 2,
   "metadata": {},
   "outputs": [],
   "source": [
    "class Champernowne:\n",
    "    def __init__(self,size=1):\n",
    "        self.size = size\n",
    "        self.iterator = itertools.product([False, True], repeat=self.size)\n",
    "        self.block = next(self.iterator)\n",
    "        self.block_index = 0\n",
    "        \n",
    "    def get_next_digit(self):\n",
    "        #check if the whole block was consumed and get a new one\n",
    "        if len(self.block)  == self.block_index:\n",
    "            try:\n",
    "                self.block = next(self.iterator)\n",
    "            except:\n",
    "                self.size += 1\n",
    "                self.iterator = itertools.product([False, True], repeat=self.size)\n",
    "                self.block = next(self.iterator)\n",
    "            self.block_index = 0\n",
    "        res = self.block[self.block_index]\n",
    "        self.block_index += 1\n",
    "        return res%2"
   ]
  },
  {
   "cell_type": "code",
   "execution_count": 3,
   "metadata": {},
   "outputs": [],
   "source": [
    "def get_occurrences(amounts,M):\n",
    "    #returns frequency of occurencies for each value in the observed range\n",
    "    occs = {}\n",
    "    total = 0    \n",
    "    for k,v in amounts.items():\n",
    "        total += 1\n",
    "        if v not in occs:\n",
    "            occs[v] = 0\n",
    "        occs[v] = occs[v] + 1\n",
    "    occs[0] = int(2**M - total)\n",
    "    max_o = 0\n",
    "    for k,v in occs.items():\n",
    "#         occs[k] = v/2**M\n",
    "        occs[k] = v\n",
    "        if k > max_o:\n",
    "            max_o = k\n",
    "    occs_array = [occs[i] if i in occs  else 0 for i in range(max_o+1)]\n",
    "    return occs_array\n",
    "\n",
    "def get_M(N,lamb):\n",
    "    return int(math.ceil(math.log(N,2) - math.log(lamb,2)))\n",
    "\n",
    "def normalize_data(occs, N, lamb):\n",
    "    M = get_M(N,lamb)\n",
    "    ret = []\n",
    "    for o in occs:\n",
    "        ret.append(o/2**M)\n",
    "    return ret\n",
    "\n",
    "def get_mean(normalized_occs):\n",
    "    mean = 0\n",
    "    for i in range(len(normalized_occs)):\n",
    "        mean += i*normalized_occs[i]\n",
    "    return mean\n",
    "\n",
    "def get_std(normalized_occs,mean):\n",
    "    if mean == None:\n",
    "        mean = get_mean(normalized_occs)\n",
    "        \n",
    "    std = 0\n",
    "    for i in range(len(normalized_occs)):\n",
    "        std += ((i-mean)**2)*normalized_occs[i]\n",
    "    return std"
   ]
  },
  {
   "cell_type": "code",
   "execution_count": 4,
   "metadata": {},
   "outputs": [],
   "source": [
    "def get_amounts_for_ns(Ns,lamb=1,use_seq='levin'):\n",
    "    if use_seq == 'levin':\n",
    "        sequence = Levin()\n",
    "    elif use_seq == 'levin2':\n",
    "        sequence = Levin2()\n",
    "    elif use_seq == 'champernowne':\n",
    "        sequence = Champernowne()\n",
    "    elif use_seq == 'rule30':\n",
    "        sequence = Rule30()\n",
    "    elif use_seq == 'stoneham':\n",
    "        sequence = Stoneham()\n",
    "    else:\n",
    "        sequence = PRNG()\n",
    "        \n",
    "        \n",
    "    Ms = [get_M(N,lamb) for N in Ns]\n",
    "    \n",
    "    min_M = min(Ms)\n",
    "    max_M = max(Ms)\n",
    "    max_N = max(Ns)\n",
    "    \n",
    "    #create dictionaries to store frequencies of every N value\n",
    "    amounts = {}\n",
    "    occurrences = {}\n",
    "    for N in Ns:\n",
    "        amounts[N] = {}    \n",
    "    counter = 0\n",
    "    word = ''\n",
    "    \n",
    "    #Get digits up to max M\n",
    "    while len(word) < max_M:\n",
    "        counter += 1\n",
    "        word = word + str(sequence.get_next_digit())\n",
    "    \n",
    "    #process first big word\n",
    "    for i in range(len(Ms)):\n",
    "        M = Ms[i]\n",
    "        N = Ns[i]\n",
    "        for j in range(len(word) - M + 1):\n",
    "            if counter < N :\n",
    "                sub_word = word[j:M+j]\n",
    "                if  sub_word not in amounts[N]:\n",
    "                    amounts[N][sub_word] = 0\n",
    "                amounts[N][sub_word] = amounts[N][sub_word] + 1\n",
    "            elif N not in occurrences:\n",
    "                #Ns[i] is done and not processed, process occurences and store\n",
    "                occurrences[N] = get_occurrences(amounts[N],M)\n",
    "    #process up to max\n",
    "    while counter <= max_N:\n",
    "        #get new big word\n",
    "        word = word[1:]\n",
    "        word = word + str(sequence.get_next_digit())\n",
    "        \n",
    "        #process for each M\n",
    "        for i in range(len(Ms)):\n",
    "            M = Ms[i]\n",
    "            N = Ns[i]\n",
    "            if counter < N:\n",
    "                sub_word = word[len(word) - M:]\n",
    "                if  sub_word not in amounts[N]:\n",
    "                    amounts[N][sub_word] = 0\n",
    "                amounts[N][sub_word] = amounts[N][sub_word] + 1\n",
    "            else:\n",
    "                if N not in occurrences:\n",
    "                    #N[i] is done and not processed, process occurences and store\n",
    "                    occurrences[N] = get_occurrences(amounts[N],M)\n",
    "        counter += 1\n",
    "    #This is for finding champernowne witness\n",
    "    if use_seq == 'champernowne':\n",
    "        return (occurrences,amounts)\n",
    "    return occurrences"
   ]
  },
  {
   "cell_type": "code",
   "execution_count": 5,
   "metadata": {},
   "outputs": [],
   "source": [
    "def get_amounts_for_first(N,lamb=1):\n",
    "    get_amounts_for_ns([N],lamb)\n",
    "    \n",
    "def analize_result(occs,N,l=1,plot=True):\n",
    "    print(\"---- Normalized data ----\")\n",
    "    actual = np.array(normalize_data(occs,N,l))\n",
    "    M = int(math.ceil(math.log(N,2)))    \n",
    "    x= np.arange(0,len(actual),1)\n",
    "    p = poisson.pmf(x,l)\n",
    "    mean = get_mean(actual)\n",
    "    std = get_std(actual,mean)\n",
    "    print (\"Mean: \"+ str(mean) + \"; expected: \" + str(l) + \"; difference: \" + str(abs(l-mean)))\n",
    "    print (\"Std: \"+ str(std) + \"; expected: \" + str(l) + \"; difference: \" + str(abs(l-std)))\n",
    "    print(\"difference between std and mean :\"+  str(abs(mean-std)))\n",
    "    print(\"MWU: \" + str(mannwhitneyu(actual,p)))\n",
    "    print(\"Levene: \" + str(levene(actual,p)))\n",
    "    if(plot):\n",
    "        plt.figure(l)\n",
    "        plt.plot(x, p)\n",
    "        p2 = plt.bar(x-0.5, p,label=\"expected\",width=0.5)\n",
    "        p1 = plt.bar(x, actual, color='#d62728',label=\"actual\",width=0.5)\n",
    "        plt.legend(loc='best')\n",
    "        plt.show()\n",
    "#         plt.figure(l+1)\n",
    "#         stats.probplot(actual, dist='poisson', sparams=(l), plot=plt)\n",
    "#         plt.show()\n",
    "\n",
    "def analize_result_2(occs,l=1,plot=True):\n",
    "    print(\"---- Sample data ----\")\n",
    "    actual = np.array(occs)\n",
    "    sample = poisson.rvs(1, size=sum(occs))\n",
    "    expected = [0 for i in range(max(max(sample)+1,len(actual)))]\n",
    "    for i in sample:\n",
    "        expected[i] += 1\n",
    "    expected = np.array(expected)\n",
    "    x= np.arange(0,len(actual),l)\n",
    "#     print(\"chisquare: \" + str(chisquare(f_obs=actual, f_exp=expected)))\n",
    "    print(\"MWU: \" + str(mannwhitneyu(actual,expected)))\n",
    "    print(\"Levene: \" + str(levene(actual,expected)))\n",
    "    \n",
    "    data_by_index = []\n",
    "    for i in range(len(occs)):\n",
    "        for j in range(occs[i]):\n",
    "            data_by_index.append(i)\n",
    "    \n",
    "    if(plot):\n",
    "#         plt.figure(l)\n",
    "#         plt.plot(x, expected)\n",
    "#         p2 = plt.bar(x-0.5, expected,label=\"expected\",width=0.5)\n",
    "#         p1 = plt.bar(x, actual, color='#d62728',label=\"actual\",width=0.5)\n",
    "#         plt.legend(loc='best')\n",
    "#         plt.show()\n",
    "        plt.figure(l+1)\n",
    "        stats.probplot(data_by_index, dist='poisson', sparams=(l), plot=plt)\n",
    "        plt.show()\n",
    "\n",
    "def perform_test(seq,fr=10,to=26,lamb=1):\n",
    "    Ns = [2**i for i in range(fr,to)]\n",
    "    occs = get_amounts_for_ns(Ns,lamb=lamb,use_seq=seq)\n",
    "    for N in Ns:\n",
    "        print(N)\n",
    "        analize_result(occs[N],N,plot=True,l=lamb)\n",
    "        analize_result_2(occs[N],plot=True,l=lamb)"
   ]
  },
  {
   "cell_type": "markdown",
   "metadata": {},
   "source": [
    "### Getting witness of block that appears too much for Champernowne"
   ]
  },
  {
   "cell_type": "code",
   "execution_count": 141,
   "metadata": {},
   "outputs": [],
   "source": [
    "lamb = 1\n",
    "M = 16\n",
    "N = 2**M\n",
    "(occs3,amounts) = get_amounts_for_ns([N],lamb=lamb,use_seq='champernowne')"
   ]
  },
  {
   "cell_type": "code",
   "execution_count": 142,
   "metadata": {},
   "outputs": [
    {
     "name": "stdout",
     "output_type": "stream",
     "text": [
      "---- Normalized data ----\n",
      "Mean: 0.9997711181640625; expected: 1; difference: 0.0002288818359375\n",
      "Std: 2.3702849817927927; expected: 1; difference: 1.3702849817927927\n",
      "difference between std and mean :1.3705138636287302\n",
      "MWU: MannwhitneyuResult(statistic=123.0, pvalue=0.00733342544780033)\n",
      "Levene: LeveneResult(statistic=7.167880912292756e-06, pvalue=0.9978771424034737)\n"
     ]
    },
    {
     "data": {
      "image/png": "[encoded data removed]",
      "text/plain": [
       "<Figure size 432x288 with 1 Axes>"
      ]
     },
     "metadata": {
      "needs_background": "light"
     },
     "output_type": "display_data"
    },
    {
     "name": "stdout",
     "output_type": "stream",
     "text": [
      "---- Sample data ----\n",
      "MWU: MannwhitneyuResult(statistic=122.5, pvalue=0.006385500777446687)\n",
      "Levene: LeveneResult(statistic=7.1854981941888545e-06, pvalue=0.9978745352215319)\n"
     ]
    },
    {
     "data": {
      "image/png": "[encoded data removed]",
      "text/plain": [
       "<Figure size 432x288 with 1 Axes>"
      ]
     },
     "metadata": {
      "needs_background": "light"
     },
     "output_type": "display_data"
    }
   ],
   "source": [
    "analize_result(occs3[N],N,plot=True,l=lamb)\n",
    "analize_result_2(occs3[N],plot=True,l=lamb)"
   ]
  },
  {
   "cell_type": "code",
   "execution_count": 143,
   "metadata": {},
   "outputs": [],
   "source": [
    "#Generates an image where each pixel represents a word of length M \n",
    "#The color is white if that word appears in the first N bits\n",
    "def generate_ap_image(M,N,amounts):\n",
    "    base = int(2**math.ceil(M/2))\n",
    "    height = int(2**math.floor(M/2))\n",
    "    print(N)\n",
    "    print('base: ' + str(base) + ' height: '+ str(height))\n",
    "    words = itertools.product(['0', '1'], repeat=M)\n",
    "    img = Image.new( '1', (base,height), \"black\") # Create a new black image\n",
    "    pixels = img.load() # Create the pixel map\n",
    "    ap=0\n",
    "    nap=0\n",
    "    for i in range(base):    # For every pixel:\n",
    "        for j in range(height):\n",
    "            try:\n",
    "                w = ''.join(next(words))\n",
    "                if w in amounts[N]:\n",
    "                    pixels[i,j] = 1 # Set the colour accordingly\n",
    "                    ap+=1\n",
    "                else:\n",
    "                    nap+=1\n",
    "            except StopIteration:\n",
    "                print(w)\n",
    "                print(i)\n",
    "                print(j)\n",
    "    print(ap)\n",
    "    print(nap)\n",
    "    print(ap/nap)\n",
    "    return img"
   ]
  },
  {
   "cell_type": "code",
   "execution_count": 144,
   "metadata": {},
   "outputs": [
    {
     "name": "stdout",
     "output_type": "stream",
     "text": [
      "65536\n",
      "base: 256 height: 256\n",
      "32775\n",
      "32761\n",
      "1.0004273373828638\n"
     ]
    },
    {
     "data": {
      "image/png": "[encoded data removed]",
      "text/plain": [
       "<PIL.Image.Image image mode=1 size=256x256 at 0x11E77C7D0>"
      ]
     },
     "execution_count": 144,
     "metadata": {},
     "output_type": "execute_result"
    }
   ],
   "source": [
    "img = generate_ap_image(M,N,amounts)\n",
    "img.save('2**'+str(M)+'-full.bmp')\n",
    "img"
   ]
  },
  {
   "cell_type": "code",
   "execution_count": 187,
   "metadata": {},
   "outputs": [],
   "source": [
    "#Generates an image where each row represents either a word that appears(or not, by setting) in lexicographic order\n",
    "def generate_img(M,N,amounts,condition,name,max_height=1024):\n",
    "    words = itertools.product(['0', '1'], repeat=M) \n",
    "    img = Image.new( '1', (M,max_height), \"black\")\n",
    "    pixels = img.load()\n",
    "    print('base: ' + str(M) + ' height: '+ str(height))\n",
    "    i = 0\n",
    "    ct = 0\n",
    "    k = 0\n",
    "    images = []\n",
    "    while True:\n",
    "        try:\n",
    "            w = next(words)\n",
    "            w_str = ''.join(w)\n",
    "            if condition(w_str):\n",
    "                for j in range(M):\n",
    "                    pixels[j,i] = int(w[j])\n",
    "                if i == max_height-1:\n",
    "                    images.append(img.copy())\n",
    "                    img = Image.new( '1', (M,max_height), \"black\")\n",
    "                    pixels = img.load()\n",
    "                    k+=1\n",
    "                    i=0\n",
    "                else:\n",
    "                    i+=1\n",
    "                ct+=1\n",
    "        except StopIteration:\n",
    "            new_im = Image.new('1', (k*M, max_height),'black')\n",
    "            x_offset = 0\n",
    "            for im in images:\n",
    "              new_im.paste(im, (x_offset,0))\n",
    "              x_offset += im.size[0]\n",
    "            new_im.save(str(M)+'-words-'+name+'.bmp')\n",
    "            return new_im"
   ]
  },
  {
   "cell_type": "code",
   "execution_count": 188,
   "metadata": {},
   "outputs": [
    {
     "name": "stdout",
     "output_type": "stream",
     "text": [
      "base: 16 height: 1024\n"
     ]
    },
    {
     "data": {
      "image/png": "[encoded data removed]",
      "text/plain": [
       "<PIL.Image.Image image mode=1 size=512x1024 at 0x11E7A7BD0>"
      ]
     },
     "execution_count": 188,
     "metadata": {},
     "output_type": "execute_result"
    }
   ],
   "source": [
    "generate_img(M,N,amounts,(lambda x: x in amounts[N]),name='app')"
   ]
  },
  {
   "cell_type": "code",
   "execution_count": 179,
   "metadata": {
    "scrolled": true
   },
   "outputs": [
    {
     "name": "stdout",
     "output_type": "stream",
     "text": [
      "base: 16 height: 1024\n"
     ]
    },
    {
     "data": {
      "text/plain": [
       "32761"
      ]
     },
     "execution_count": 179,
     "metadata": {},
     "output_type": "execute_result"
    }
   ],
   "source": [
    "generate_img(M,N,amounts,(lambda x: x not in amounts[N]),name='notapp')"
   ]
  },
  {
   "cell_type": "code",
   "execution_count": null,
   "metadata": {},
   "outputs": [],
   "source": []
  }
 ],
 "metadata": {
  "kernelspec": {
   "display_name": "Python 3",
   "language": "python",
   "name": "python3"
  },
  "language_info": {
   "codemirror_mode": {
    "name": "ipython",
    "version": 3
   },
   "file_extension": ".py",
   "mimetype": "text/x-python",
   "name": "python",
   "nbconvert_exporter": "python",
   "pygments_lexer": "ipython3",
   "version": "3.7.4"
  }
 },
 "nbformat": 4,
 "nbformat_minor": 2
}
